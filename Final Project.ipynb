{
 "cells": [
  {
   "cell_type": "code",
   "execution_count": 1,
   "id": "ab0b8b7d-8463-44a3-b86c-4ed6cfc7cc0a",
   "metadata": {},
   "outputs": [],
   "source": [
    "import requests\n",
    "import psycopg2\n",
    "import pandas as pd\n",
    "import numpy as np\n",
    "import warnings"
   ]
  },
  {
   "cell_type": "code",
   "execution_count": 9,
   "id": "fc0e3bf4-3ac8-4cf4-87d1-ac71776692cb",
   "metadata": {},
   "outputs": [
    {
     "name": "stdout",
     "output_type": "stream",
     "text": [
      "                            name  unit        value       type\n",
      "btc                      Bitcoin   BTC          1.0     crypto\n",
      "eth                        Ether   ETH       13.585     crypto\n",
      "ltc                     Litecoin   LTC      217.204     crypto\n",
      "bch                 Bitcoin Cash   BCH      153.448     crypto\n",
      "bnb                 Binance Coin   BNB       58.848     crypto\n",
      "...                          ...   ...          ...        ...\n",
      "xdr   IMF Special Drawing Rights   XDR    12761.096       fiat\n",
      "xag          Silver - Troy Ounce   XAG      764.178  commodity\n",
      "xau            Gold - Troy Ounce   XAU        9.578  commodity\n",
      "bits                        Bits  μBTC    1000000.0     crypto\n",
      "sats                     Satoshi  sats  100000000.0     crypto\n",
      "\n",
      "[61 rows x 4 columns]\n"
     ]
    }
   ],
   "source": [
    "# Get data into a dataframe\n",
    "\n",
    "api_url = \"https://api.coingecko.com/api/v3/exchange_rates\"\n",
    "response = requests.get(api_url)\n",
    "\n",
    "data = response.json()\n",
    "rates = data['rates']\n",
    "\n",
    "tempdf = pd.DataFrame.from_dict(rates)\n",
    "df = tempdf.T\n",
    "\n",
    "print(df)"
   ]
  },
  {
   "cell_type": "code",
   "execution_count": 16,
   "id": "554061b9-be9b-414a-853e-46e671549ada",
   "metadata": {},
   "outputs": [],
   "source": [
    "# Connect to RDS Postgres database\n",
    "conn = psycopg2.connect(\n",
    "    database=\"crypto\",\n",
    "    user=\"jkamino\",\n",
    "    password=\"Tacoman123\",\n",
    "    host=\"data-5330-1.ckpcm5tpab0e.us-west-1.rds.amazonaws.com\",\n",
    "    port=\"5432\")\n",
    "\n",
    "cursor = conn.cursor() "
   ]
  },
  {
   "cell_type": "code",
   "execution_count": 4,
   "id": "3bc27fcb-933b-4e64-9929-a88295b57562",
   "metadata": {},
   "outputs": [],
   "source": [
    "# Create Table if it doesn't exist\n",
    "query = \"\"\"\n",
    "CREATE TABLE IF NOT EXISTS exchange_rates (\n",
    "  exchange_id serial PRIMARY KEY,\n",
    "  name VARCHAR(100) NOT NULL,\n",
    "  unit VARCHAR(5) NOT NULL,\n",
    "  value FLOAT, \n",
    "  type VARCHAR(20), \n",
    "  date TIMESTAMP  \n",
    ");\n",
    "\"\"\"\n",
    "\n",
    "cursor.execute(query)\n",
    "conn.commit()"
   ]
  },
  {
   "cell_type": "code",
   "execution_count": 17,
   "id": "11d9ea00-5d5c-4e7d-8bc6-6cbcb694657c",
   "metadata": {},
   "outputs": [
    {
     "name": "stdout",
     "output_type": "stream",
     "text": [
      "Bitcoin ingested\n",
      "Ether ingested\n",
      "Litecoin ingested\n",
      "Bitcoin Cash ingested\n",
      "Binance Coin ingested\n",
      "EOS ingested\n",
      "XRP ingested\n",
      "Lumens ingested\n",
      "Chainlink ingested\n",
      "Polkadot ingested\n",
      "Yearn.finance ingested\n",
      "US Dollar ingested\n",
      "United Arab Emirates Dirham ingested\n",
      "Argentine Peso ingested\n",
      "Australian Dollar ingested\n",
      "Bangladeshi Taka ingested\n",
      "Bahraini Dinar ingested\n",
      "Bermudian Dollar ingested\n",
      "Brazil Real ingested\n",
      "Canadian Dollar ingested\n",
      "Swiss Franc ingested\n",
      "Chilean Peso ingested\n",
      "Chinese Yuan ingested\n",
      "Czech Koruna ingested\n",
      "Danish Krone ingested\n",
      "Euro ingested\n",
      "British Pound Sterling ingested\n",
      "Hong Kong Dollar ingested\n",
      "Hungarian Forint ingested\n",
      "Indonesian Rupiah ingested\n",
      "Israeli New Shekel ingested\n",
      "Indian Rupee ingested\n",
      "Japanese Yen ingested\n",
      "South Korean Won ingested\n",
      "Kuwaiti Dinar ingested\n",
      "Sri Lankan Rupee ingested\n",
      "Burmese Kyat ingested\n",
      "Mexican Peso ingested\n",
      "Malaysian Ringgit ingested\n",
      "Nigerian Naira ingested\n",
      "Norwegian Krone ingested\n",
      "New Zealand Dollar ingested\n",
      "Philippine Peso ingested\n",
      "Pakistani Rupee ingested\n",
      "Polish Zloty ingested\n",
      "Russian Ruble ingested\n",
      "Saudi Riyal ingested\n",
      "Swedish Krona ingested\n",
      "Singapore Dollar ingested\n",
      "Thai Baht ingested\n",
      "Turkish Lira ingested\n",
      "New Taiwan Dollar ingested\n",
      "Ukrainian hryvnia ingested\n",
      "Venezuelan bolívar fuerte ingested\n",
      "Vietnamese đồng ingested\n",
      "South African Rand ingested\n",
      "IMF Special Drawing Rights ingested\n",
      "Silver - Troy Ounce ingested\n",
      "Gold - Troy Ounce ingested\n",
      "Bits ingested\n",
      "Satoshi ingested\n"
     ]
    }
   ],
   "source": [
    "# Loop through all items in df, ingest\n",
    "for x in df.index:\n",
    "    cursor.execute(f\"\"\"\n",
    "                    INSERT INTO exchange_rates ( name, unit, value, type, date)\n",
    "                    VALUES ('{df.loc[x][\"name\"]}', '{df.loc[x][\"unit\"]}', '{df.loc[x][\"value\"]}', '{df.loc[x][\"type\"]}', current_timestamp)\n",
    "                    \"\"\")\n",
    "\n",
    "    conn.commit()\n",
    "    \n",
    "    name = df.loc[x][\"name\"]\n",
    "    \n",
    "    print(f\"{name} ingested\")\n",
    "    "
   ]
  },
  {
   "cell_type": "code",
   "execution_count": 20,
   "id": "e26136cf-143f-4cb3-a2a2-6aa66832205e",
   "metadata": {},
   "outputs": [
    {
     "name": "stdout",
     "output_type": "stream",
     "text": [
      "                                   name  unit         value       type  \\\n",
      "exchange_id                                                              \n",
      "1                               Bitcoin   BTC  1.000000e+00     crypto   \n",
      "2                                 Ether   ETH  1.358500e+01     crypto   \n",
      "3                              Litecoin   LTC  2.172040e+02     crypto   \n",
      "4                          Bitcoin Cash   BCH  1.534480e+02     crypto   \n",
      "5                          Binance Coin   BNB  5.884800e+01     crypto   \n",
      "...                                 ...   ...           ...        ...   \n",
      "57           IMF Special Drawing Rights   XDR  1.276110e+04       fiat   \n",
      "58                  Silver - Troy Ounce   XAG  7.641780e+02  commodity   \n",
      "59                    Gold - Troy Ounce   XAU  9.578000e+00  commodity   \n",
      "60                                 Bits  μBTC  1.000000e+06     crypto   \n",
      "61                              Satoshi  sats  1.000000e+08     crypto   \n",
      "\n",
      "                                  date  \n",
      "exchange_id                             \n",
      "1           2022-12-06 20:33:20.708169  \n",
      "2           2022-12-06 20:33:21.561199  \n",
      "3           2022-12-06 20:33:22.236133  \n",
      "4           2022-12-06 20:33:23.026991  \n",
      "5           2022-12-06 20:33:24.210938  \n",
      "...                                ...  \n",
      "57          2022-12-06 20:33:53.374035  \n",
      "58          2022-12-06 20:33:53.478576  \n",
      "59          2022-12-06 20:33:53.585982  \n",
      "60          2022-12-06 20:33:53.690648  \n",
      "61          2022-12-06 20:33:53.794365  \n",
      "\n",
      "[61 rows x 5 columns]\n"
     ]
    },
    {
     "name": "stderr",
     "output_type": "stream",
     "text": [
      "C:\\Users\\JKami\\anaconda3\\lib\\site-packages\\pandas\\io\\sql.py:761: UserWarning: pandas only support SQLAlchemy connectable(engine/connection) ordatabase string URI or sqlite3 DBAPI2 connectionother DBAPI2 objects are not tested, please consider using SQLAlchemy\n",
      "  warnings.warn(\n"
     ]
    }
   ],
   "source": [
    "# Lets see if this worked\n",
    "query = (f\"\"\"\n",
    "SELECT *\n",
    "FROM exchange_rates\n",
    "\"\"\")\n",
    "\n",
    "df_sql_table = pd.read_sql(query, conn,index_col='exchange_id')\n",
    "\n",
    "print(df_sql_table)"
   ]
  }
 ],
 "metadata": {
  "kernelspec": {
   "display_name": "Python 3 (ipykernel)",
   "language": "python",
   "name": "python3"
  },
  "language_info": {
   "codemirror_mode": {
    "name": "ipython",
    "version": 3
   },
   "file_extension": ".py",
   "mimetype": "text/x-python",
   "name": "python",
   "nbconvert_exporter": "python",
   "pygments_lexer": "ipython3",
   "version": "3.9.12"
  }
 },
 "nbformat": 4,
 "nbformat_minor": 5
}
