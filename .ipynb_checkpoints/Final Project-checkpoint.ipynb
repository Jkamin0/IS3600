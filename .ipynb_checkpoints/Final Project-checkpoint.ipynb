{
 "cells": [
  {
   "cell_type": "code",
   "execution_count": 5,
   "id": "ab0b8b7d-8463-44a3-b86c-4ed6cfc7cc0a",
   "metadata": {},
   "outputs": [],
   "source": [
    "import requests\n",
    "import pandas as pd"
   ]
  },
  {
   "cell_type": "code",
   "execution_count": 18,
   "id": "fc0e3bf4-3ac8-4cf4-87d1-ac71776692cb",
   "metadata": {},
   "outputs": [
    {
     "name": "stdout",
     "output_type": "stream",
     "text": [
      "                            name  unit        value       type\n",
      "btc                      Bitcoin   BTC          1.0     crypto\n",
      "eth                        Ether   ETH       13.261     crypto\n",
      "ltc                     Litecoin   LTC      216.624     crypto\n",
      "bch                 Bitcoin Cash   BCH      153.197     crypto\n",
      "bnb                 Binance Coin   BNB       57.904     crypto\n",
      "...                          ...   ...          ...        ...\n",
      "xdr   IMF Special Drawing Rights   XDR    12899.191       fiat\n",
      "xag          Silver - Troy Ounce   XAG       745.79  commodity\n",
      "xau            Gold - Troy Ounce   XAU        9.409  commodity\n",
      "bits                        Bits  μBTC    1000000.0     crypto\n",
      "sats                     Satoshi  sats  100000000.0     crypto\n",
      "\n",
      "[61 rows x 4 columns]\n"
     ]
    }
   ],
   "source": [
    "# Get data into a dataframe\n",
    "\n",
    "api_url = \"https://api.coingecko.com/api/v3/exchange_rates\"\n",
    "response = requests.get(api_url)\n",
    "\n",
    "data = response.json()\n",
    "rates = data['rates']\n",
    "\n",
    "tempdf = pd.DataFrame.from_dict(rates)\n",
    "df = tempdf.T\n",
    "\n",
    "print(df)"
   ]
  }
 ],
 "metadata": {
  "kernelspec": {
   "display_name": "Python 3 (ipykernel)",
   "language": "python",
   "name": "python3"
  },
  "language_info": {
   "codemirror_mode": {
    "name": "ipython",
    "version": 3
   },
   "file_extension": ".py",
   "mimetype": "text/x-python",
   "name": "python",
   "nbconvert_exporter": "python",
   "pygments_lexer": "ipython3",
   "version": "3.9.12"
  }
 },
 "nbformat": 4,
 "nbformat_minor": 5
}
